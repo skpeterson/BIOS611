{
 "cells": [
  {
   "cell_type": "code",
   "execution_count": 1,
   "id": "a63d6de3-e27d-4544-8ea7-11293f70d3f8",
   "metadata": {},
   "outputs": [],
   "source": [
    "# import libraries \n",
    "import pandas as pd\n",
    "import os\n",
    "from pycaret.classification import *"
   ]
  },
  {
   "cell_type": "code",
   "execution_count": 2,
   "id": "32939008-1fe7-443b-89ab-d77014e88a2a",
   "metadata": {},
   "outputs": [],
   "source": [
    "# change working dir to top of work directory \n",
    "os.chdir('/home/rstudio/work')"
   ]
  },
  {
   "cell_type": "code",
   "execution_count": null,
   "id": "848053c8-2f5d-4227-b3ed-d22930a03911",
   "metadata": {},
   "outputs": [],
   "source": []
  }
 ],
 "metadata": {
  "kernelspec": {
   "display_name": "Python 3 (ipykernel)",
   "language": "python",
   "name": "python3"
  },
  "language_info": {
   "codemirror_mode": {
    "name": "ipython",
    "version": 3
   },
   "file_extension": ".py",
   "mimetype": "text/x-python",
   "name": "python",
   "nbconvert_exporter": "python",
   "pygments_lexer": "ipython3",
   "version": "3.10.12"
  }
 },
 "nbformat": 4,
 "nbformat_minor": 5
}
